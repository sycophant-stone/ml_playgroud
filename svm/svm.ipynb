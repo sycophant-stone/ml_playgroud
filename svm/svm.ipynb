{
 "cells": [
  {
   "cell_type": "markdown",
   "metadata": {},
   "source": [
    "### svm\n",
    "\n",
    "利用SMO方法实现svm"
   ]
  },
  {
   "cell_type": "code",
   "execution_count": null,
   "metadata": {},
   "outputs": [],
   "source": [
    "import numpy as np\n",
    "import time"
   ]
  },
  {
   "cell_type": "markdown",
   "metadata": {},
   "source": [
    "---\n",
    "#### 一些基本的辅助函数"
   ]
  },
  {
   "cell_type": "code",
   "execution_count": null,
   "metadata": {},
   "outputs": [],
   "source": [
    "def loadDataset(filename):\n",
    "    dataMat=[]\n",
    "    labelMat=[]\n",
    "    fr=open(filename)\n",
    "    for line in fr.readlines():\n",
    "        print(line)\n",
    "        lineArr=line.strip().split('\\t')\n",
    "        dataMat.append([float(lineArr[0]),float(lineArr[1])])\n",
    "        labelMat.append(float(lineArr[2]))\n",
    "    return dataMat,labelMat\n",
    "\n",
    "X_train,y_train=loadDataset('testSet.txt')"
   ]
  },
  {
   "cell_type": "code",
   "execution_count": null,
   "metadata": {},
   "outputs": [],
   "source": [
    "# 返回在0~m样本范围内,和i不同的随机的一个值\n",
    "def selectJrand(i,m):\n",
    "    j=i\n",
    "    while(j==i):\n",
    "        j=int(np.random.uniform(0,m))\n",
    "    \n",
    "    return j\n"
   ]
  },
  {
   "cell_type": "code",
   "execution_count": null,
   "metadata": {},
   "outputs": [],
   "source": [
    "# 把alpha clip到H和L范围内\n",
    "def clipAlpha(aj,H,L):\n",
    "    if aj>H:\n",
    "        aj=H\n",
    "    elif aj<L:\n",
    "        aj=L\n",
    "    return aj\n"
   ]
  },
  {
   "cell_type": "code",
   "execution_count": null,
   "metadata": {},
   "outputs": [],
   "source": [
    "# dataSe: 是数据集\n",
    "# labels: 是标签,+1和-1\n",
    "# C是 alpha的最大值,约束条件\n",
    "# toler 误差容忍\n",
    "# maxIter: alpha不再变化的最大迭代次数,尝试这么多次的迭代alpha都不在变化后,认为找到最优的alpha.\n",
    "def smo(dataSet,labels,C,toler,maxIter):\n",
    "    X=np.mat(dataSet)\n",
    "    y=np.mat(labels).transpose()\n",
    "    b=0\n",
    "    m,n=X.shape\n",
    "    #alphas=np.zeros([m,1],np.float32)\n",
    "    alphas = np.mat(np.zeros((m,1)))\n",
    "    iterI=0\n",
    "    print(maxIter)\n",
    "    while(iterI<maxIter):# end\n",
    "        # update\n",
    "        alphaPairsChanged=0\n",
    "        for i in range(m):# end\n",
    "            fXi=float(np.multiply(alphas,y).T*(X*X[i,:].T))+b\n",
    "            \n",
    "            Ei=fXi-float(y[i])\n",
    "            # KKT conditions\n",
    "            # 第一: 偏差大于 toler. y[i]表符号.\n",
    "            # 第二: alphas[i]满足0~C,而且不能取边界; 这个边界问题我还没搞懂\n",
    "            if ((y[i]*Ei<-toler) and alphas[i]<C ) or ((y[i]*Ei>toler)and alphas[i]>0): #kkt条件,参考<<支持向量机通俗导论>>及<<支持向量机导论>>\n",
    "                j=selectJrand(i,m)\n",
    "                fXj=float(np.multiply(alphas,y).T*(X*X[j,:].T))+b\n",
    "                Ej=fXj-y[j]\n",
    "                alpha_i_old=alphas[i].copy()\n",
    "                alpha_j_old=alphas[j].copy()\n",
    "                if y[i]!=y[j]:\n",
    "                    L=max(0,alphas[j]-alphas[i])\n",
    "                    H=min(C,C+alphas[j]-alphas[i])\n",
    "                else:\n",
    "                    L=max(0,alphas[i]+alphas[j]-C)\n",
    "                    H=min(C,alphas[j]-alphas[i])\n",
    "                \n",
    "                eta=2.0*X[i,:]*X[j,:].T - X[i,:]*X[i,:].T - X[j,:]*X[j,:].T\n",
    "                #eta = 2.0 * dataMatrix[i,:]*dataMatrix[j,:].T - dataMatrix[i,:]*dataMatrix[i,:].T - dataMatrix[j,:]*dataMatrix[j,:].T\n",
    "                if eta>=0:\n",
    "                    print(\"eta >=0\")\n",
    "                    continue\n",
    "                alphas[j]-=y[j]*(Ei-Ej)/eta # 更新alpha[j]\n",
    "                alphas[j]=clipAlpha(alphas[j],H,L)\n",
    "                if(np.abs(alphas[j]-alpha_j_old)<0.00001):\n",
    "                    print(\"j not move\")\n",
    "                    continue\n",
    "                alphas[i]+=y[j]*y[i]*(alpha_j_old-alphas[j])\n",
    "                \n",
    "                b1=b-Ei-y[i]*(alphas[i]-alpha_i_old)*X[i,:]*X[i,:].T-y[j]*(alphas[j]-alpha_j_old)*X[j,:]*X[j,:].T\n",
    "                b2=b-Ej-y[i]*(alphas[i]-alpha_i_old)*X[i,:]*X[i,:].T-y[j]*(alphas[j]-alpha_j_old)*X[j,:]*X[j,:].T\n",
    "                if (0<alphas[i]) and (C>alphas[i]):\n",
    "                    b=b1\n",
    "                elif (0<alphas[j]) and (C>alphas[j]):\n",
    "                    b=b2\n",
    "                else:\n",
    "                    b=(b1+b2)/2.0\n",
    "                    \n",
    "                alphaPairsChanged+=1\n",
    "                print(\"iter: %d i:%d, pairs changed %d\" % (iterI,i,alphaPairsChanged))\n",
    "        if alphaPairsChanged==0:\n",
    "            iterI+=1\n",
    "        else:\n",
    "            iterI=0\n",
    "        print(\"iteration num: %d\"%iterI)\n",
    "    \n",
    "    return b,alphas\n",
    "                \n",
    "                \n",
    "            \n",
    "        # break\n",
    "    \n",
    "b,alphas=smo(X_train,y_train,0.6,0.001,40)    "
   ]
  },
  {
   "cell_type": "code",
   "execution_count": null,
   "metadata": {},
   "outputs": [],
   "source": []
  }
 ],
 "metadata": {
  "kernelspec": {
   "display_name": "Python 3",
   "language": "python",
   "name": "python3"
  },
  "language_info": {
   "codemirror_mode": {
    "name": "ipython",
    "version": 3
   },
   "file_extension": ".py",
   "mimetype": "text/x-python",
   "name": "python",
   "nbconvert_exporter": "python",
   "pygments_lexer": "ipython3",
   "version": "3.6.2"
  }
 },
 "nbformat": 4,
 "nbformat_minor": 2
}
