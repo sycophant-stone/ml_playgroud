{
 "cells": [
  {
   "cell_type": "markdown",
   "metadata": {},
   "source": [
    "## AdaBoost"
   ]
  },
  {
   "cell_type": "markdown",
   "metadata": {},
   "source": [
    "#### 错误率曲线\n",
    "$$\\alpha =\\frac{1}{2}ln(\\frac{1-\\varepsilon }{\\varepsilon })$$\n",
    "\n",
    "#### 样本权重更新函数\n",
    "若样本被正确分类:\n",
    "$$D_{i}^{t+1}=\\frac{D_{i}^{t}e^{-\\alpha }}{sum(D)}$$\n",
    "若样本被错误分类:\n",
    "$$D_{i}^{t+1}=\\frac{D_{i}^{t}e^{\\alpha }}{sum(D)}$$"
   ]
  },
  {
   "cell_type": "code",
   "execution_count": 1,
   "metadata": {},
   "outputs": [],
   "source": [
    "import numpy as np\n",
    "import matplotlib.pyplot as plt"
   ]
  },
  {
   "cell_type": "markdown",
   "metadata": {},
   "source": [
    "#### numpy函数大全\n",
    "https://www.cnblogs.com/TensorSense/p/6795995.html"
   ]
  },
  {
   "cell_type": "code",
   "execution_count": 2,
   "metadata": {
    "scrolled": true
   },
   "outputs": [
    {
     "name": "stderr",
     "output_type": "stream",
     "text": [
      "c:\\program files\\python36\\lib\\site-packages\\ipykernel_launcher.py:4: RuntimeWarning: divide by zero encountered in true_divide\n",
      "  after removing the cwd from sys.path.\n",
      "c:\\program files\\python36\\lib\\site-packages\\ipykernel_launcher.py:4: RuntimeWarning: divide by zero encountered in log\n",
      "  after removing the cwd from sys.path.\n",
      "c:\\program files\\python36\\lib\\site-packages\\ipykernel_launcher.py:4: RuntimeWarning: invalid value encountered in log\n",
      "  after removing the cwd from sys.path.\n"
     ]
    }
   ],
   "source": [
    "#x=np.linspace(-1,100,num=100)\n",
    "x=np.arange(0,100,0.001)\n",
    "#print(x)\n",
    "y=1/2*np.log((1-x)/x)"
   ]
  },
  {
   "cell_type": "code",
   "execution_count": 3,
   "metadata": {},
   "outputs": [
    {
     "data": {
      "image/png": "[encoded data removed]",
      "text/plain": [
       "<matplotlib.figure.Figure at 0x1c9ad1e2780>"
      ]
     },
     "metadata": {},
     "output_type": "display_data"
    }
   ],
   "source": [
    "plt.plot(x,y)\n",
    "plt.show()"
   ]
  },
  {
   "cell_type": "markdown",
   "metadata": {},
   "source": [
    "#### 构造简单数据集并显示"
   ]
  },
  {
   "cell_type": "code",
   "execution_count": 4,
   "metadata": {},
   "outputs": [],
   "source": [
    "def show_img(r,c,imgid,x,y1,y2,y1_name,y2_name,title_name,x_name,y_name,y_lim,legend_name,x_scale_log=False,y_lim_min=0):\n",
    "    fig=plt.figure()\n",
    "    ax=fig.add_subplot(r,c,imgid)\n",
    "    ax.plot(x,y1,label=y1_name)\n",
    "    ax.plot(x,y2,label=y2_name)\n",
    "    #ax.set_xscale(x_name)\n",
    "    ax.set_xlabel(x_name)\n",
    "    ax.set_ylabel(y_name)\n",
    "    ax.set_title(title_name)\n",
    "    ax.set_ylim(y_lim_min,y_lim)\n",
    "    if x_scale_log==True:\n",
    "        ax.set_xscale('log')\n",
    "    ax.legend(loc=legend_name)\n",
    "    plt.show()\n"
   ]
  },
  {
   "cell_type": "code",
   "execution_count": 5,
   "metadata": {},
   "outputs": [],
   "source": [
    "def loadSimpData():\n",
    "    datMat = np.matrix([[ 1. ,  2.1],\n",
    "        [ 2. ,  1.1],\n",
    "        [ 1.3,  1. ],\n",
    "        [ 1. ,  1. ],\n",
    "        [ 2. ,  1. ]])\n",
    "    classLabels = [1.0, 1.0, -1.0, -1.0, 1.0]\n",
    "    return datMat,classLabels"
   ]
  },
  {
   "cell_type": "code",
   "execution_count": 6,
   "metadata": {},
   "outputs": [],
   "source": [
    "X_train,y_train=loadSimpData()"
   ]
  },
  {
   "cell_type": "code",
   "execution_count": 7,
   "metadata": {},
   "outputs": [
    {
     "data": {
      "image/png": "[encoded data removed]",
      "text/plain": [
       "<matplotlib.figure.Figure at 0x1c9af2b8e48>"
      ]
     },
     "metadata": {},
     "output_type": "display_data"
    }
   ],
   "source": [
    "axes = plt.gca()\n",
    "y_train=np.matrix(y_train)\n",
    "#print(y_train.shape)\n",
    "    # 这里用之前的矩阵的方法总有个错误,无奈,我们自己轮询找一下\n",
    "    #neg = np.where(y_train==-1.0)\n",
    "    #pos = np.where(y_train==1.0)\n",
    "    #neg=neg[0]\n",
    "    #pos=pos[0]\n",
    "neg=[]\n",
    "pos=[]\n",
    "#print(\"ytrain\",y_train[0,1]) # 这里调试一下合适的规则\n",
    "for i in range(y_train.shape[1]):\n",
    "    if y_train[0,i]==-1.0:\n",
    "        neg.append(i)\n",
    "    elif y_train[0,i]==1:\n",
    "        pos.append(i)\n",
    "X_neg=np.zeros([len(neg),2],np.float32)\n",
    "X_pos=np.zeros([len(pos),2],np.float32)\n",
    "for i in range(len(neg)):\n",
    "    X_neg[i]=X_train[neg[i]]\n",
    "for i in range(len(pos)):\n",
    "    X_pos[i]=X_train[pos[i]]\n",
    "axes.scatter(X_pos[:,0], X_pos[:,1], marker='+', c='k', s=60, linewidth=2, label=\"Pos+\")\n",
    "axes.scatter(X_neg[:,0], X_neg[:,1], c='y', s=60, label=\"Neg-\")\n",
    "axes.set_xlabel(\"x feature0\")\n",
    "axes.set_ylabel(\"x feature1\")\n",
    "axes.legend(frameon= True, fancybox = True);\n",
    "plt.show()"
   ]
  },
  {
   "cell_type": "code",
   "execution_count": 8,
   "metadata": {},
   "outputs": [],
   "source": [
    "# 判断DataM数据集的dimen维度值和threshVal的大小比较.\n",
    "# threshIneq是比较的方式,大于阈值或者小于阈值.\n",
    "# 返回一个predict\n",
    "def stumpClassfy(DataM,dimen,threshVal,threshIneq):\n",
    "    # create for saving status\n",
    "    retArray=np.ones((DataM.shape[0],1),np.float32)\n",
    "    if threshIneq=='lt':\n",
    "        # <=\n",
    "        retArray[DataM[:,dimen]<=threshVal]=-1.0\n",
    "    else:\n",
    "        retArray[DataM[:,dimen]>threshVal]=-1.0\n",
    "    return retArray"
   ]
  },
  {
   "cell_type": "code",
   "execution_count": 9,
   "metadata": {},
   "outputs": [
    {
     "data": {
      "text/plain": [
       "({'dim': 0, 'thresh': 1.3, 'ineq': 'lt'},\n",
       " matrix([[ 0.2]], dtype=float32),\n",
       " array([[-1.],\n",
       "        [ 1.],\n",
       "        [-1.],\n",
       "        [-1.],\n",
       "        [ 1.]], dtype=float32))"
      ]
     },
     "execution_count": 9,
     "metadata": {},
     "output_type": "execute_result"
    }
   ],
   "source": [
    "# D: data's weights\n",
    "# accroding to D ,get the lest error decision tree stump\n",
    "# 本函数使用时D集合内容是不变的.\n",
    "# 我们在对\"\"合理范围内\"的所有\"阈值穷尽lt或者gt,来算错误的样本对应的D的值之和.\n",
    "# 有点绕,参照log和代码好好理解.\n",
    "def buildStump(DataM,y,D):\n",
    "    m,n=DataM.shape\n",
    "    minError=np.inf\n",
    "    # for every features\n",
    "    featureStep=10.0\n",
    "    bestStump={}\n",
    "    for i in range(n):\n",
    "        featureMin=DataM[:,i].min()\n",
    "        featureMax=DataM[:,i].max()\n",
    "        featureStepSize=(featureMax-featureMin)/featureStep\n",
    "        for j in range(-1,int(featureStep)+1):\n",
    "            # for every step \n",
    "            for inequal in ['gt','lt']:\n",
    "                # for every inequal\n",
    "                threshVal=featureMin+float(j)*featureStepSize\n",
    "                predict=stumpClassfy(DataM,i,threshVal=threshVal,threshIneq=inequal)\n",
    "                # 对于所有样本.\n",
    "                # 每个特征.\n",
    "                #    对每个特征都有一个阈值和('gt' or 'lt')的算子. 算出对应的一个预期.\n",
    "                #    如果这个算出的预期和实际的label一样.\n",
    "                #        我们把errorItemIndexArray对应的项清零.以便后期乘法操作让这些正确的项不起作用.\n",
    "                #    对于算出的预期和实际的label不一样的:\n",
    "                #        errorItemIndexArray中会保持对应的错误项为1.在后面AdaBoost的调整alpha和D时候会有乘法操作.\n",
    "                errorItemIndexArray=np.mat(np.ones((m,1),np.float32))\n",
    "                #print(\"y\")\n",
    "                #print(y)\n",
    "                #print(y.shape)\n",
    "                # the correct item mask to Zero\n",
    "                errorItemIndexArray[predict==y.transpose()]=0 # y的shape需要转置\n",
    "                all_incorrect_weight_sum=D.T*errorItemIndexArray # 对于某个特定的特征,算出一共有多少个样本是错误的.\n",
    "                #print(\"split: dim %d, thresh %.2f, thresh ineqal: %s, the weighted error is %.3f\" % (i, threshVal, inequal, all_incorrect_weight_sum))\n",
    "                \n",
    "                # 对于一套D和alpha.\n",
    "                #    算出所有组合的,最小的错误项的那种组合.\n",
    "                # 这样外面会受到这个结果,根据这个结果来调整D和alpha.\n",
    "                if all_incorrect_weight_sum<minError: # 找到最小的错误项.\n",
    "                    minError=all_incorrect_weight_sum\n",
    "                    bestClsEst=predict\n",
    "                    bestStump['dim']=i\n",
    "                    bestStump['thresh']=threshVal\n",
    "                    bestStump['ineq']=inequal\n",
    "    \n",
    "    return bestStump,minError,bestClsEst\n",
    "\n",
    "D=np.ones((5,1),np.float32)/5\n",
    "buildStump(X_train,y_train,D)             \n",
    "    "
   ]
  },
  {
   "cell_type": "markdown",
   "metadata": {},
   "source": [
    "#### log的理解\n",
    "```python\n",
    "D=np.ones((5,1),np.float32)/5\n",
    "buildStump(X_train,y_train,D) \n",
    "\n",
    "split: dim 0, thresh 0.90, thresh ineqal: gt, the weighted error is 0.600\n",
    "split: dim 0, thresh 0.90, thresh ineqal: lt, the weighted error is 0.400\n",
    "split: dim 0, thresh 1.00, thresh ineqal: gt, the weighted error is 0.600\n",
    "split: dim 0, thresh 1.00, thresh ineqal: lt, the weighted error is 0.400\n",
    "split: dim 0, thresh 1.10, thresh ineqal: gt, the weighted error is 0.600\n",
    "split: dim 0, thresh 1.10, thresh ineqal: lt, the weighted error is 0.400\n",
    "split: dim 0, thresh 1.20, thresh ineqal: gt, the weighted error is 0.600\n",
    "split: dim 0, thresh 1.20, thresh ineqal: lt, the weighted error is 0.400\n",
    "split: dim 0, thresh 1.30, thresh ineqal: gt, the weighted error is 0.800\n",
    "split: dim 0, thresh 1.30, thresh ineqal: lt, the weighted error is 0.200\n",
    "split: dim 0, thresh 1.40, thresh ineqal: gt, the weighted error is 0.800\n",
    "split: dim 0, thresh 1.40, thresh ineqal: lt, the weighted error is 0.200\n",
    "split: dim 0, thresh 1.50, thresh ineqal: gt, the weighted error is 0.800\n",
    "split: dim 0, thresh 1.50, thresh ineqal: lt, the weighted error is 0.200\n",
    "split: dim 0, thresh 1.60, thresh ineqal: gt, the weighted error is 0.800\n",
    "split: dim 0, thresh 1.60, thresh ineqal: lt, the weighted error is 0.200\n",
    "split: dim 0, thresh 1.70, thresh ineqal: gt, the weighted error is 0.800\n",
    "split: dim 0, thresh 1.70, thresh ineqal: lt, the weighted error is 0.200\n",
    "split: dim 0, thresh 1.80, thresh ineqal: gt, the weighted error is 0.800\n",
    "split: dim 0, thresh 1.80, thresh ineqal: lt, the weighted error is 0.200\n",
    "split: dim 0, thresh 1.90, thresh ineqal: gt, the weighted error is 0.800\n",
    "split: dim 0, thresh 1.90, thresh ineqal: lt, the weighted error is 0.200\n",
    "split: dim 0, thresh 2.00, thresh ineqal: gt, the weighted error is 0.400\n",
    "split: dim 0, thresh 2.00, thresh ineqal: lt, the weighted error is 0.600\n",
    "split: dim 1, thresh 0.89, thresh ineqal: gt, the weighted error is 0.600\n",
    "split: dim 1, thresh 0.89, thresh ineqal: lt, the weighted error is 0.400\n",
    "split: dim 1, thresh 1.00, thresh ineqal: gt, the weighted error is 0.800\n",
    "split: dim 1, thresh 1.00, thresh ineqal: lt, the weighted error is 0.200\n",
    "split: dim 1, thresh 1.11, thresh ineqal: gt, the weighted error is 0.600\n",
    "split: dim 1, thresh 1.11, thresh ineqal: lt, the weighted error is 0.400\n",
    "split: dim 1, thresh 1.22, thresh ineqal: gt, the weighted error is 0.600\n",
    "split: dim 1, thresh 1.22, thresh ineqal: lt, the weighted error is 0.400\n",
    "split: dim 1, thresh 1.33, thresh ineqal: gt, the weighted error is 0.600\n",
    "split: dim 1, thresh 1.33, thresh ineqal: lt, the weighted error is 0.400\n",
    "split: dim 1, thresh 1.44, thresh ineqal: gt, the weighted error is 0.600\n",
    "split: dim 1, thresh 1.44, thresh ineqal: lt, the weighted error is 0.400\n",
    "split: dim 1, thresh 1.55, thresh ineqal: gt, the weighted error is 0.600\n",
    "split: dim 1, thresh 1.55, thresh ineqal: lt, the weighted error is 0.400\n",
    "split: dim 1, thresh 1.66, thresh ineqal: gt, the weighted error is 0.600\n",
    "split: dim 1, thresh 1.66, thresh ineqal: lt, the weighted error is 0.400\n",
    "split: dim 1, thresh 1.77, thresh ineqal: gt, the weighted error is 0.600\n",
    "split: dim 1, thresh 1.77, thresh ineqal: lt, the weighted error is 0.400\n",
    "split: dim 1, thresh 1.88, thresh ineqal: gt, the weighted error is 0.600\n",
    "split: dim 1, thresh 1.88, thresh ineqal: lt, the weighted error is 0.400\n",
    "split: dim 1, thresh 1.99, thresh ineqal: gt, the weighted error is 0.600\n",
    "split: dim 1, thresh 1.99, thresh ineqal: lt, the weighted error is 0.400\n",
    "split: dim 1, thresh 2.10, thresh ineqal: gt, the weighted error is 0.400\n",
    "split: dim 1, thresh 2.10, thresh ineqal: lt, the weighted error is 0.600\n",
    "Out[92]:\n",
    "({'dim': 0, 'thresh': 1.3, 'ineq': 'lt'},\n",
    " matrix([[ 0.2]], dtype=float32),\n",
    " array([[-1.],\n",
    "        [ 1.],\n",
    "        [-1.],\n",
    "        [-1.],\n",
    "        [ 1.]], dtype=float32))\n",
    "```"
   ]
  },
  {
   "cell_type": "markdown",
   "metadata": {},
   "source": [
    "### 单层决策树的AdaBoost训练"
   ]
  },
  {
   "cell_type": "code",
   "execution_count": 10,
   "metadata": {},
   "outputs": [],
   "source": [
    "# numIt: iteration epoch\n",
    "def adaBoostTrainDB(DataM,y,numIt=40):\n",
    "    weakClassArr=[]\n",
    "    m,n=DataM.shape\n",
    "    D=np.ones((m,1),np.float32)/m\n",
    "    aggClassEst=np.ones((m,1),np.float32)\n",
    "    for i in range(numIt):\n",
    "        #print(\"D:\",D.T)\n",
    "        bestStump,minError,bestClsEst=buildStump(DataM=DataM,y=y,D=D)\n",
    "        alpha=float(0.5*np.log((1-minError)/max(minError,1e-16))) # 1e-16避免除数为零\n",
    "        bestStump['alpha']=alpha\n",
    "        weakClassArr.append(bestStump)\n",
    "        #print(\"ClsEst: \",bestClsEst.T)\n",
    "        #更新D,对于评估正确的样本和评估错误的样本有不同的更新公式\n",
    "        expon=np.multiply(-1*alpha*y.T,bestClsEst)\n",
    "        D=np.multiply(D,np.exp(expon))\n",
    "        D=D/np.sum(D)\n",
    "        aggClassEst+=alpha*bestClsEst\n",
    "        #print(\"aggClassEst: \",aggClassEst.T)\n",
    "        \n",
    "        # 取出最小误差的那次预测的结果和label的差异的个数.\n",
    "        # 每次D都更新,按照每次的D算出这次的结果.\n",
    "        aggErrors=np.multiply(np.sign(aggClassEst)!=y,np.ones((m,1),np.float32)) \n",
    "        errorRate=np.sum(aggErrors)/m\n",
    "        print(\"total error: \",errorRate)\n",
    "        if errorRate==0:\n",
    "            break\n",
    "    \n",
    "    return weakClassArr\n",
    "    \n",
    "    "
   ]
  },
  {
   "cell_type": "code",
   "execution_count": 14,
   "metadata": {},
   "outputs": [
    {
     "name": "stdout",
     "output_type": "stream",
     "text": [
      "total error:  2.0\n",
      "total error:  2.4\n",
      "total error:  2.0\n",
      "total error:  2.4\n",
      "total error:  2.4\n",
      "total error:  2.4\n",
      "total error:  2.4\n",
      "total error:  2.4\n",
      "total error:  2.4\n"
     ]
    }
   ],
   "source": [
    "weak_cls=adaBoostTrainDB(X_train,y_train,9)"
   ]
  },
  {
   "cell_type": "markdown",
   "metadata": {},
   "source": [
    "#### log及分析\n",
    "```python\n",
    "D: [[ 0.2  0.2  0.2  0.2  0.2]]\n",
    "ClsEst:  [[-1.  1. -1. -1.  1.]]\n",
    "aggClassEst:  [[ 0.30685282  1.69314718  0.30685282  0.30685282  1.69314718]]\n",
    "total error:  2.0\n",
    "D: [[ 0.5    0.125  0.125  0.125  0.125]]\n",
    "ClsEst:  [[ 1.  1. -1. -1. -1.]]\n",
    "aggClassEst:  [[ 1.27980781  2.66610217 -0.66610223 -0.66610223  0.72019213]]\n",
    "total error:  2.4\n",
    "D: [[ 0.28571429  0.07142857  0.07142857  0.07142857  0.5       ]]\n",
    "ClsEst:  [[ 1.  1.  1.  1.  1.]]\n",
    "aggClassEst:  [[ 2.17568755  3.56198192  0.22977751  0.22977751  1.61607194]]\n",
    "total error:  2.0\n",
    "D: [[ 0.16666667  0.04166667  0.25        0.25        0.29166667]]\n",
    "ClsEst:  [[-1.  1. -1. -1.  1.]]\n",
    "aggClassEst:  [[ 1.37096858  4.36670113 -0.57494146 -0.57494146  2.42079091]]\n",
    "total error:  2.4\n",
    "D: [[ 0.5    0.025  0.15   0.15   0.175]]\n",
    "ClsEst:  [[ 1.  1. -1. -1. -1.]]\n",
    "aggClassEst:  [[ 2.14626741  5.14199972 -1.35024023 -1.35024023  1.6454922 ]]\n",
    "total error:  2.4\n",
    "D: [[ 0.3030303   0.01515152  0.09090909  0.09090909  0.5       ]]\n",
    "ClsEst:  [[ 1.  1.  1.  1.  1.]]\n",
    "aggClassEst:  [[ 2.89830613  5.8940382  -0.59820151 -0.59820151  2.39753103]]\n",
    "total error:  2.4\n",
    "D: [[ 0.18518519  0.00925926  0.25        0.25        0.30555556]]\n",
    "ClsEst:  [[-1.  1. -1. -1.  1.]]\n",
    "aggClassEst:  [[ 2.15750384  6.63484049 -1.3390038  -1.3390038   3.13833332]]\n",
    "total error:  2.4\n",
    "D: [[ 0.5         0.00568182  0.15340909  0.15340909  0.1875    ]]\n",
    "ClsEst:  [[ 1.  1. -1. -1. -1.]]\n",
    "aggClassEst:  [[ 2.89067245  7.36800909 -2.0721724  -2.0721724   2.40516472]]\n",
    "total error:  2.4\n",
    "D: [[ 0.30769231  0.0034965   0.09440559  0.09440559  0.5       ]]\n",
    "ClsEst:  [[ 1.  1.  1.  1.  1.]]\n",
    "aggClassEst:  [[ 3.61954904  8.09688568 -1.34329581 -1.34329581  3.13404131]]\n",
    "total error:  2.4\n",
    "Out[106]:\n",
    "[{'dim': 0, 'thresh': 1.3, 'ineq': 'lt', 'alpha': 0.6931471824645996},\n",
    " {'dim': 1, 'thresh': 1.0, 'ineq': 'lt', 'alpha': 0.9729550756160306},\n",
    " {'dim': 0,\n",
    "  'thresh': 0.90000000000000002,\n",
    "  'ineq': 'lt',\n",
    "  'alpha': 0.8958797358837971},\n",
    " {'dim': 0, 'thresh': 1.3, 'ineq': 'lt', 'alpha': 0.8047189554551886},\n",
    " {'dim': 1, 'thresh': 1.0, 'ineq': 'lt', 'alpha': 0.7752987062715455},\n",
    " {'dim': 0,\n",
    "  'thresh': 0.90000000000000002,\n",
    "  'ineq': 'lt',\n",
    "  'alpha': 0.7520386982470516},\n",
    " {'dim': 0, 'thresh': 1.3, 'ineq': 'lt', 'alpha': 0.7408022704447926},\n",
    " {'dim': 1, 'thresh': 1.0, 'ineq': 'lt', 'alpha': 0.7331685343611956},\n",
    " {'dim': 0,\n",
    "  'thresh': 0.90000000000000002,\n",
    "  'ineq': 'lt',\n",
    "  'alpha': 0.7288766625388551}]\n",
    "```"
   ]
  },
  {
   "cell_type": "markdown",
   "metadata": {},
   "source": [
    "### 需要一个测试分类的方法\n"
   ]
  },
  {
   "cell_type": "code",
   "execution_count": 35,
   "metadata": {},
   "outputs": [],
   "source": [
    "# X: 样本\n",
    "# weakClassArr: \n",
    "#      是个List, 成员是 beatStump,共epoch个.\n",
    "#      在某组epoch中找到的错误率最小的D的分类器.\n",
    "#      包含了weakClassArr.append(bestStump)\n",
    "#           bestStump中包含了: dim, thresh, ineq, alpha.\n",
    "#\n",
    "#       epoch(这里是9)个weak cls.\n",
    "#            每个cls都对所有样本计算出一个predict值.\n",
    "#            每个cls乘以其alpha的和得到一个投票的结果.\n",
    "def adaClassify(X,weakClassArr):\n",
    "    m,n=X.shape\n",
    "    cls_val=np.zeros((m,1),np.float32)\n",
    "    for i in range(len(weakClassArr)):\n",
    "        predict=stumpClassfy(X,weakClassArr[i]['dim'],weakClassArr[i]['thresh'],weakClassArr[i]['ineq'])\n",
    "        cls_val+=weakClassArr[i]['alpha']*predict # alpha是个常量\n",
    "    print(\"cls_val\",cls_val)\n",
    "    return np.sign(cls_val)\n",
    "    "
   ]
  },
  {
   "cell_type": "code",
   "execution_count": 36,
   "metadata": {},
   "outputs": [
    {
     "name": "stdout",
     "output_type": "stream",
     "text": [
      "cls_val [[ 2.6195488 ]\n",
      " [ 7.09688568]\n",
      " [-2.34329581]\n",
      " [-2.34329581]\n",
      " [ 2.13404131]]\n"
     ]
    },
    {
     "data": {
      "text/plain": [
       "array([[ 1.],\n",
       "       [ 1.],\n",
       "       [-1.],\n",
       "       [-1.],\n",
       "       [ 1.]], dtype=float32)"
      ]
     },
     "execution_count": 36,
     "metadata": {},
     "output_type": "execute_result"
    }
   ],
   "source": [
    "adaClassify(X_train,weak_cls)"
   ]
  },
  {
   "cell_type": "code",
   "execution_count": 37,
   "metadata": {},
   "outputs": [
    {
     "name": "stdout",
     "output_type": "stream",
     "text": [
      "[[ 1.]\n",
      " [ 1.]\n",
      " [-1.]\n",
      " [-1.]\n",
      " [ 1.]]\n"
     ]
    }
   ],
   "source": [
    "print(y_train.transpose())"
   ]
  },
  {
   "cell_type": "code",
   "execution_count": 38,
   "metadata": {},
   "outputs": [],
   "source": [
    "def loadDataSet(filename):\n",
    "    num_feature=len(open(filename).readline().split('\\t'))\n",
    "    dataMat=[]\n",
    "    labelMat=[]\n",
    "    fr=open(filename)\n",
    "    for line in fr.readlines(): # 注意这里 readline 和 readlines 的区别\n",
    "        curline=line.strip().split('\\t')\n",
    "        lineArr=[] # 是个list\n",
    "        #print(curline)\n",
    "        for i in range(num_feature-1):\n",
    "            #print(\"i:%s/num_feature:%s\"%(i,num_feature))\n",
    "            lineArr.append(float(curline[i])) # 注意这个转成float型\n",
    "        dataMat.append(lineArr)\n",
    "        labelMat.append(float(curline[-1]))\n",
    "    return dataMat,labelMat"
   ]
  },
  {
   "cell_type": "code",
   "execution_count": 39,
   "metadata": {},
   "outputs": [],
   "source": [
    "X_horse_train,y_horse_train=loadDataSet('horseColicTraining2.txt')"
   ]
  },
  {
   "cell_type": "code",
   "execution_count": 40,
   "metadata": {},
   "outputs": [
    {
     "name": "stdout",
     "output_type": "stream",
     "text": [
      "total error:  121.0\n",
      "total error:  121.0\n",
      "total error:  125.003344482\n",
      "total error:  124.431438127\n",
      "total error:  124.431438127\n",
      "total error:  124.81270903\n",
      "total error:  125.003344482\n",
      "total error:  125.384615385\n",
      "total error:  125.003344482\n",
      "total error:  125.384615385\n",
      "total error:  125.193979933\n",
      "total error:  125.765886288\n",
      "total error:  125.193979933\n",
      "total error:  125.575250836\n",
      "total error:  125.575250836\n",
      "total error:  125.384615385\n",
      "total error:  125.384615385\n",
      "total error:  125.765886288\n",
      "total error:  125.193979933\n",
      "total error:  126.147157191\n",
      "total error:  125.765886288\n",
      "total error:  126.719063545\n",
      "total error:  125.956521739\n",
      "total error:  125.765886288\n",
      "total error:  125.193979933\n",
      "total error:  125.956521739\n",
      "total error:  125.575250836\n",
      "total error:  126.528428094\n",
      "total error:  125.384615385\n",
      "total error:  127.100334448\n",
      "total error:  125.575250836\n",
      "total error:  126.909698997\n",
      "total error:  125.956521739\n",
      "total error:  126.909698997\n",
      "total error:  126.719063545\n",
      "total error:  127.2909699\n",
      "total error:  127.2909699\n",
      "total error:  127.481605351\n",
      "total error:  127.2909699\n",
      "total error:  127.2909699\n"
     ]
    }
   ],
   "source": [
    "X_horse_train=np.mat(X_horse_train)\n",
    "y_horse_train=np.mat(y_horse_train)\n",
    "horse_weakcls=adaBoostTrainDB(X_horse_train,y_horse_train,numIt=40)"
   ]
  },
  {
   "cell_type": "code",
   "execution_count": 41,
   "metadata": {},
   "outputs": [],
   "source": [
    "X_horse_test,y_horse_test=loadDataSet('horseColicTest2.txt')"
   ]
  },
  {
   "cell_type": "code",
   "execution_count": 43,
   "metadata": {},
   "outputs": [
    {
     "name": "stdout",
     "output_type": "stream",
     "text": [
      "cls_val [[ 0.95461994]\n",
      " [ 1.27098572]\n",
      " [ 0.24258699]\n",
      " [-1.83685923]\n",
      " [ 0.44521946]\n",
      " [ 0.84903187]\n",
      " [ 0.25492656]\n",
      " [ 1.88878703]\n",
      " [ 1.33263063]\n",
      " [-1.40148723]\n",
      " [-0.16094241]\n",
      " [-0.31095886]\n",
      " [-0.55424923]\n",
      " [ 0.79479033]\n",
      " [ 0.13746494]\n",
      " [ 0.41450995]\n",
      " [ 0.64119607]\n",
      " [-1.15582049]\n",
      " [-0.6155476 ]\n",
      " [-0.52989906]\n",
      " [-0.78573483]\n",
      " [ 0.4846229 ]\n",
      " [-1.34943891]\n",
      " [-1.79574764]\n",
      " [ 2.52829361]\n",
      " [ 1.74962151]\n",
      " [ 1.86922157]\n",
      " [ 0.56389803]\n",
      " [ 1.86355793]\n",
      " [ 0.47905761]\n",
      " [ 2.29477835]\n",
      " [-1.08819163]\n",
      " [-1.21990478]\n",
      " [-0.42865914]\n",
      " [-1.03391707]\n",
      " [-0.20262909]\n",
      " [ 1.27783787]\n",
      " [ 1.79265273]\n",
      " [ 1.55965149]\n",
      " [ 1.37386739]\n",
      " [ 0.91737193]\n",
      " [ 1.54512274]\n",
      " [-0.31167668]\n",
      " [-1.2825191 ]\n",
      " [-1.38776922]\n",
      " [ 0.15951444]\n",
      " [-0.87272936]\n",
      " [ 1.07160735]\n",
      " [ 0.61285913]\n",
      " [-0.88237816]\n",
      " [-0.76225942]\n",
      " [ 1.64420426]\n",
      " [ 1.4867717 ]\n",
      " [ 1.02018797]\n",
      " [ 1.09440732]\n",
      " [ 1.14154875]\n",
      " [ 0.79844934]\n",
      " [-0.39068305]\n",
      " [ 0.97649485]\n",
      " [-1.8804816 ]\n",
      " [ 1.60401261]\n",
      " [-0.76225942]\n",
      " [ 0.05936576]\n",
      " [ 1.91698158]\n",
      " [ 1.21404517]\n",
      " [ 0.84129637]\n",
      " [ 0.37487942]]\n",
      "error_cnt 13.0\n"
     ]
    }
   ],
   "source": [
    "X_horse_test=np.mat(X_horse_test)\n",
    "y_horse_test=np.mat(y_horse_test)\n",
    "prediction=adaClassify(X_horse_test,horse_weakcls)\n",
    "errArray=np.ones((67,1),np.float32)\n",
    "error_cnt=np.sum(errArray[prediction!=y_horse_test.T])\n",
    "print(\"error_cnt\",error_cnt)"
   ]
  },
  {
   "cell_type": "code",
   "execution_count": null,
   "metadata": {},
   "outputs": [],
   "source": []
  }
 ],
 "metadata": {
  "kernelspec": {
   "display_name": "Python 3",
   "language": "python",
   "name": "python3"
  },
  "language_info": {
   "codemirror_mode": {
    "name": "ipython",
    "version": 3
   },
   "file_extension": ".py",
   "mimetype": "text/x-python",
   "name": "python",
   "nbconvert_exporter": "python",
   "pygments_lexer": "ipython3",
   "version": "3.6.2"
  }
 },
 "nbformat": 4,
 "nbformat_minor": 2
}
