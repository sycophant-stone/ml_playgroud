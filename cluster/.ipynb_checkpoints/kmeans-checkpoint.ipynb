{
 "cells": [
  {
   "cell_type": "markdown",
   "metadata": {},
   "source": [
    "### kmeans"
   ]
  },
  {
   "cell_type": "markdown",
   "metadata": {},
   "source": [
    "#### setup"
   ]
  },
  {
   "cell_type": "code",
   "execution_count": 1,
   "metadata": {},
   "outputs": [],
   "source": [
    "import numpy as np\n",
    "import matplotlib.pyplot as plt"
   ]
  },
  {
   "cell_type": "code",
   "execution_count": 2,
   "metadata": {},
   "outputs": [],
   "source": [
    "def loadDataSet(fileName):      #general function to parse tab -delimited floats\n",
    "    dataMat = []                #assume last column is target value\n",
    "    fr = open(fileName)\n",
    "    for line in fr.readlines():\n",
    "        curLine = line.strip().split('\\t')\n",
    "        fltLine = list(map(float,curLine)) #map all elements to float()\n",
    "        dataMat.append(fltLine)\n",
    "    return dataMat"
   ]
  },
  {
   "cell_type": "code",
   "execution_count": 3,
   "metadata": {},
   "outputs": [],
   "source": [
    "# 计算某向量距离质心的欧式距离 \n",
    "def distEculd(vecA,vecB):\n",
    "    return np.sqrt(np.sum(np.power(vecA-vecB,2.0)))\n",
    "    "
   ]
  },
  {
   "cell_type": "code",
   "execution_count": 4,
   "metadata": {},
   "outputs": [],
   "source": [
    "# 生成dataSet个样本,k是需要聚类的出的类的个数.\n",
    "def randCent(dataSet,k):\n",
    "    m,n=dataSet.shape\n",
    "    centroids=np.mat(np.zeros((k,n),np.float32)) # k行n列的中心坐标\n",
    "    for j in range(n): # 对于每个特征\n",
    "        minJ=min(dataSet[:,j])\n",
    "        maxJ=max(dataSet[:,j])\n",
    "        delatJ=float(maxJ-minJ)\n",
    "        centroids[:,j]=minJ+delatJ*np.random.rand(k,1) # 第j个特征的每个样本的质心\n",
    "    \n",
    "    return centroids\n",
    "    "
   ]
  },
  {
   "cell_type": "code",
   "execution_count": 5,
   "metadata": {},
   "outputs": [
    {
     "data": {
      "text/plain": [
       "matrix([[ 0.18961796,  2.45408273],\n",
       "        [-2.44573784,  4.51775837],\n",
       "        [-0.0731729 , -3.46519756]], dtype=float32)"
      ]
     },
     "execution_count": 5,
     "metadata": {},
     "output_type": "execute_result"
    }
   ],
   "source": [
    "X_train=loadDataSet(\"testSet.txt\")\n",
    "X_train=np.mat(X_train)\n",
    "randCent(X_train,3)"
   ]
  },
  {
   "cell_type": "code",
   "execution_count": 53,
   "metadata": {},
   "outputs": [
    {
     "data": {
      "text/plain": [
       "5.184632816681332"
      ]
     },
     "execution_count": 53,
     "metadata": {},
     "output_type": "execute_result"
    }
   ],
   "source": [
    "distEculd(X_train[0],X_train[1])"
   ]
  },
  {
   "cell_type": "markdown",
   "metadata": {},
   "source": [
    "#### kmeans"
   ]
  },
  {
   "cell_type": "markdown",
   "metadata": {},
   "source": [
    "kmeans简图\n",
    "![kmeans简图](https://note.youdao.com/yws/api/personal/file/9D61D024B3E745408C249F766CC26692?method=download&shareKey=fe44472dbea390a0bba14907c3a2324c)\n"
   ]
  },
  {
   "cell_type": "code",
   "execution_count": 42,
   "metadata": {},
   "outputs": [],
   "source": [
    "def kmeans(dataSet,k,distMeas=distEculd,centSetup=randCent):\n",
    "    m,n=dataSet.shape\n",
    "    # 保存类别信息\n",
    "    clusterAssment=np.mat(np.zeros((m,2),np.float32))\n",
    "    #clusterAssment=np.zeros((m,2),np.float32)\n",
    "    centroids=centSetup(dataSet,k) # 随机出一组中心点.\n",
    "    print(\"setup:%s\"%(centroids))\n",
    "    clusterChanged=True \n",
    "    while clusterChanged: # 只要质心改变了,就要重新计算并更新一次.\n",
    "        clusterChanged=False\n",
    "        for i in range(m):\n",
    "            # 每个样本计算对应的距离 \n",
    "            mindistV=np.inf # step1. 求出每个样本对k个质心的最小的距离.\n",
    "            minIndex=-1     # step1. 暂存\n",
    "            for j in range(k): # 对k个聚类的质心.\n",
    "                distV=distMeas(dataSet[i,:],centroids[j,:]) # 求其欧式距离\n",
    "                #print(\"distV:%s,mindistV:%s\"%(distV,mindistV))\n",
    "                if mindistV>distV:\n",
    "                    mindistV=distV # 记下最小的距离以及所属的k聚类的哪一类.\n",
    "                    minIndex=j\n",
    "            if clusterAssment[i,0]!=minIndex:\n",
    "                clusterChanged=True # 如果该样本改变了所属类别,怎需要重新计算质心.\n",
    "            #clusterAssment=minIndex,mindistV**2 # 这种写法在新的版本中会把数据格式解析错.\n",
    "            clusterAssment[i,0]=minIndex\n",
    "            clusterAssment[i,1]=mindistV**2\n",
    "            #print(clusterAssment.shape)\n",
    "            #print(clusterAssment)\n",
    "            #print(clusterAssment[:,0])\n",
    "            #print(centroids)\n",
    "        # step2. 等到在某次质心情况下把所有样本都做完一次归类之后,重新计算质心.\n",
    "        for cent in range(k):\n",
    "            sameClust=dataSet[np.nonzero(clusterAssment[:,0].A==cent)[0]]\n",
    "            #print(\"the %sth cluster's samples are : sameClust:%s\"%(cent,sameClust))\n",
    "            #print(np.nonzero(clusterAssment[:,0])) # 第一列是每个样本输入的k聚类之一的id.比如说是第一类.第二类,第三类.\n",
    "            sameClust = dataSet[np.nonzero(clusterAssment[:,0].A==cent)[0]]#get all the point in this cluster\n",
    "            centroids[cent,:]=np.mean(sameClust,axis=0) # 保持横轴形式,把列求和进而求均值.\n",
    "            print(\"centroids[%s,:]=%s\"%(cent,centroids[cent,:]))\n",
    "    return centroids,clusterAssment"
   ]
  },
  {
   "cell_type": "code",
   "execution_count": 43,
   "metadata": {},
   "outputs": [
    {
     "name": "stdout",
     "output_type": "stream",
     "text": [
      "setup:[[-1.06504762  0.26967973]\n",
      " [ 2.2790947  -2.93740654]\n",
      " [ 1.25116587  4.33137274]]\n",
      "centroids[0,:]=[[-3.04212356 -0.1844383 ]]\n",
      "centroids[1,:]=[[ 2.51621747 -2.9689095 ]]\n",
      "centroids[2,:]=[[ 2.10377479  3.18830323]]\n",
      "centroids[0,:]=[[-3.18695354 -0.35938492]]\n",
      "centroids[1,:]=[[ 2.65077376 -2.79019022]]\n",
      "centroids[2,:]=[[ 1.98283625  3.14652348]]\n",
      "centroids[0,:]=[[-3.18695354 -0.35938492]]\n",
      "centroids[1,:]=[[ 2.65077376 -2.79019022]]\n",
      "centroids[2,:]=[[ 1.98283625  3.14652348]]\n"
     ]
    },
    {
     "data": {
      "text/plain": [
       "(matrix([[-3.18695354, -0.35938492],\n",
       "         [ 2.65077376, -2.79019022],\n",
       "         [ 1.98283625,  3.14652348]], dtype=float32),\n",
       " matrix([[  2.        ,   1.40131807],\n",
       "         [  0.        ,  14.38757706],\n",
       "         [  1.        ,   7.46973991],\n",
       "         [  0.        ,  13.8245163 ],\n",
       "         [  2.        ,   1.07012844],\n",
       "         [  0.        ,   3.72100019],\n",
       "         [  1.        ,   5.10287666],\n",
       "         [  0.        ,   1.95344436],\n",
       "         [  2.        ,   2.87820554],\n",
       "         [  0.        ,  12.60713387],\n",
       "         [  1.        ,   1.72819698],\n",
       "         [  0.        ,   7.66752386],\n",
       "         [  2.        ,   4.97829962],\n",
       "         [  0.        ,  12.03944397],\n",
       "         [  1.        ,   9.1285305 ],\n",
       "         [  1.        ,  10.63785839],\n",
       "         [  2.        ,   3.19328713],\n",
       "         [  2.        ,   7.72812891],\n",
       "         [  1.        ,   0.40704465],\n",
       "         [  0.        ,   3.70393801],\n",
       "         [  2.        ,   0.1987066 ],\n",
       "         [  0.        ,  10.45096111],\n",
       "         [  1.        ,   0.99397635],\n",
       "         [  0.        ,   5.89792681],\n",
       "         [  2.        ,   0.58111614],\n",
       "         [  0.        ,   8.95212173],\n",
       "         [  1.        ,   0.54477495],\n",
       "         [  0.        ,   8.78218555],\n",
       "         [  2.        ,   0.1336693 ],\n",
       "         [  0.        ,   1.56789482],\n",
       "         [  1.        ,   4.44962502],\n",
       "         [  0.        ,   3.85408688],\n",
       "         [  2.        ,   0.17314446],\n",
       "         [  0.        ,   4.57812548],\n",
       "         [  1.        ,   6.83764076],\n",
       "         [  0.        ,  10.21746635],\n",
       "         [  2.        ,   4.18623018],\n",
       "         [  2.        ,   8.66060257],\n",
       "         [  1.        ,   0.05182923],\n",
       "         [  0.        ,   8.80142689],\n",
       "         [  2.        ,   0.55980104],\n",
       "         [  0.        ,  11.00828171],\n",
       "         [  1.        ,   0.66874123],\n",
       "         [  0.        ,  16.13692284],\n",
       "         [  2.        ,   0.12131259],\n",
       "         [  0.        ,  13.20451641],\n",
       "         [  1.        ,   1.24487448],\n",
       "         [  0.        ,   4.62731028],\n",
       "         [  2.        ,   2.56636333],\n",
       "         [  2.        ,  15.03382587],\n",
       "         [  1.        ,   0.31170079],\n",
       "         [  0.        ,  14.09977722],\n",
       "         [  2.        ,   7.23060513],\n",
       "         [  0.        ,  16.38148117],\n",
       "         [  1.        ,   0.22210607],\n",
       "         [  0.        ,   7.53399944],\n",
       "         [  2.        ,   1.65985072],\n",
       "         [  0.        ,   9.46260643],\n",
       "         [  1.        ,   0.76751071],\n",
       "         [  0.        ,  10.324049  ],\n",
       "         [  2.        ,   1.26278913],\n",
       "         [  0.        ,  10.91228104],\n",
       "         [  1.        ,   2.04544711],\n",
       "         [  0.        ,   3.11743331],\n",
       "         [  2.        ,   2.52266526],\n",
       "         [  2.        ,  13.13945961],\n",
       "         [  1.        ,   0.19026133],\n",
       "         [  0.        ,   7.81551075],\n",
       "         [  2.        ,   0.11469366],\n",
       "         [  0.        ,  13.13769436],\n",
       "         [  1.        ,   0.83358365],\n",
       "         [  0.        ,   5.33153009],\n",
       "         [  2.        ,   8.97886086],\n",
       "         [  0.        ,  13.03269863],\n",
       "         [  1.        ,   4.12455082],\n",
       "         [  0.        ,   3.36025906],\n",
       "         [  2.        ,   0.82291198],\n",
       "         [  0.        ,  10.33987904],\n",
       "         [  1.        ,   4.39510775],\n",
       "         [  0.        ,   9.46472549]], dtype=float32))"
      ]
     },
     "execution_count": 43,
     "metadata": {},
     "output_type": "execute_result"
    }
   ],
   "source": [
    "kmeans(X_train,3,distEculd,randCent)"
   ]
  },
  {
   "cell_type": "code",
   "execution_count": null,
   "metadata": {},
   "outputs": [],
   "source": []
  },
  {
   "cell_type": "code",
   "execution_count": null,
   "metadata": {},
   "outputs": [],
   "source": []
  }
 ],
 "metadata": {
  "kernelspec": {
   "display_name": "Python 3",
   "language": "python",
   "name": "python3"
  },
  "language_info": {
   "codemirror_mode": {
    "name": "ipython",
    "version": 3
   },
   "file_extension": ".py",
   "mimetype": "text/x-python",
   "name": "python",
   "nbconvert_exporter": "python",
   "pygments_lexer": "ipython3",
   "version": "3.6.2"
  }
 },
 "nbformat": 4,
 "nbformat_minor": 2
}
