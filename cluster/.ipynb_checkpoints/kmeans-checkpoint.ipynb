{
 "cells": [
  {
   "cell_type": "markdown",
   "metadata": {},
   "source": [
    "### kmeans"
   ]
  },
  {
   "cell_type": "markdown",
   "metadata": {},
   "source": [
    "#### setup"
   ]
  },
  {
   "cell_type": "code",
   "execution_count": 1,
   "metadata": {},
   "outputs": [],
   "source": [
    "import numpy as np\n",
    "import matplotlib.pyplot as plt"
   ]
  },
  {
   "cell_type": "code",
   "execution_count": 2,
   "metadata": {},
   "outputs": [],
   "source": [
    "def loadDataSet(fileName):      #general function to parse tab -delimited floats\n",
    "    dataMat = []                #assume last column is target value\n",
    "    fr = open(fileName)\n",
    "    for line in fr.readlines():\n",
    "        curLine = line.strip().split('\\t')\n",
    "        fltLine = list(map(float,curLine)) #map all elements to float()\n",
    "        dataMat.append(fltLine)\n",
    "    return dataMat"
   ]
  },
  {
   "cell_type": "code",
   "execution_count": 3,
   "metadata": {},
   "outputs": [],
   "source": [
    "# 计算某向量距离质心的欧式距离 \n",
    "def distEculd(vecA,vecB):\n",
    "    return np.sqrt(np.sum(np.power(vecA-vecB,2.0)))\n",
    "    "
   ]
  },
  {
   "cell_type": "code",
   "execution_count": 4,
   "metadata": {},
   "outputs": [],
   "source": [
    "# 生成dataSet个样本,k是需要聚类的出的类的个数.\n",
    "def randCent(dataSet,k):\n",
    "    m,n=dataSet.shape\n",
    "    centroids=np.mat(np.zeros((k,n),np.float32)) # k行n列的中心坐标\n",
    "    for j in range(n): # 对于每个特征\n",
    "        minJ=min(dataSet[:,j])\n",
    "        maxJ=max(dataSet[:,j])\n",
    "        delatJ=float(maxJ-minJ)\n",
    "        centroids[:,j]=minJ+delatJ*np.random.rand(k,1) # 第j个特征的每个样本的质心\n",
    "    \n",
    "    return centroids\n",
    "    "
   ]
  },
  {
   "cell_type": "code",
   "execution_count": 5,
   "metadata": {},
   "outputs": [
    {
     "data": {
      "text/plain": [
       "matrix([[-2.65245152, -3.80799174],\n",
       "        [-4.97474432, -3.50036001],\n",
       "        [-1.85272288, -0.03364042]], dtype=float32)"
      ]
     },
     "execution_count": 5,
     "metadata": {},
     "output_type": "execute_result"
    }
   ],
   "source": [
    "X_train=loadDataSet(\"testSet.txt\")\n",
    "X_train=np.mat(X_train)\n",
    "randCent(X_train,3)"
   ]
  },
  {
   "cell_type": "code",
   "execution_count": 6,
   "metadata": {},
   "outputs": [
    {
     "data": {
      "text/plain": [
       "5.184632816681332"
      ]
     },
     "execution_count": 6,
     "metadata": {},
     "output_type": "execute_result"
    }
   ],
   "source": [
    "distEculd(X_train[0],X_train[1])"
   ]
  },
  {
   "cell_type": "markdown",
   "metadata": {},
   "source": [
    "#### kmeans"
   ]
  },
  {
   "cell_type": "markdown",
   "metadata": {},
   "source": [
    "kmeans简图\n",
    "![kmeans简图](https://note.youdao.com/yws/api/personal/file/9D61D024B3E745408C249F766CC26692?method=download&shareKey=fe44472dbea390a0bba14907c3a2324c)\n"
   ]
  },
  {
   "cell_type": "code",
   "execution_count": 7,
   "metadata": {},
   "outputs": [],
   "source": [
    "def kmeans(dataSet,k,distMeas=distEculd,centSetup=randCent):\n",
    "    m,n=dataSet.shape\n",
    "    # 保存类别信息\n",
    "    clusterAssment=np.mat(np.zeros((m,2),np.float32))\n",
    "    #clusterAssment=np.zeros((m,2),np.float32)\n",
    "    centroids=centSetup(dataSet,k) # 随机出一组中心点.\n",
    "    clusterChanged=True \n",
    "    while clusterChanged: # 只要质心改变了,就要重新计算并更新一次.\n",
    "        clusterChanged=False\n",
    "        for i in range(m):\n",
    "            # 每个样本计算对应的距离 \n",
    "            mindistV=np.inf # step1. 求出每个样本对k个质心的最小的距离.\n",
    "            minIndex=-1     # step1. 暂存\n",
    "            for j in range(k): # 对k个聚类的质心.\n",
    "                distV=distMeas(dataSet[i,:],centroids[j,:]) # 求其欧式距离\n",
    "                #print(\"distV:%s,mindistV:%s\"%(distV,mindistV))\n",
    "                if mindistV>distV:\n",
    "                    mindistV=distV # 记下最小的距离以及所属的k聚类的哪一类.\n",
    "                    minIndex=j\n",
    "            if clusterAssment[i,0]!=minIndex:\n",
    "                clusterChanged=True # 如果该样本改变了所属类别,怎需要重新计算质心.\n",
    "            #clusterAssment=minIndex,mindistV**2 # 这种写法在新的版本中会把数据格式解析错.\n",
    "            clusterAssment[i,0]=minIndex\n",
    "            clusterAssment[i,1]=mindistV**2\n",
    "\n",
    "        # step2. 等到在某次质心情况下把所有样本都做完一次归类之后,重新计算质心.\n",
    "        for cent in range(k):\n",
    "            #sameClust=dataSet[np.nonzero(clusterAssment[:,0].A==cent)[0]]\n",
    "            #print(\"the %sth cluster's samples are : sameClust:%s\"%(cent,sameClust))\n",
    "            #print(np.nonzero(clusterAssment[:,0])) # 第一列是每个样本输入的k聚类之一的id.比如说是第一类.第二类,第三类.\n",
    "            sameClust = dataSet[np.nonzero(clusterAssment[:,0].A==cent)[0]]#get all the point in this cluster\n",
    "            centroids[cent,:]=np.mean(sameClust,axis=0) # 保持横轴形式,把列求和进而求均值.\n",
    "            print(\"centroids[%s,:]=%s\"%(cent,centroids[cent,:]))\n",
    "    return centroids,clusterAssment"
   ]
  },
  {
   "cell_type": "code",
   "execution_count": 8,
   "metadata": {},
   "outputs": [
    {
     "name": "stdout",
     "output_type": "stream",
     "text": [
      "centroids[0,:]=[[-2.25437284  2.9018054 ]]\n",
      "centroids[1,:]=[[-3.01169467 -3.0123868 ]]\n",
      "centroids[2,:]=[[ 2.84621763  0.26158631]]\n",
      "centroids[0,:]=[[-1.94392526  2.96291876]]\n",
      "centroids[1,:]=[[-3.01169467 -3.0123868 ]]\n",
      "centroids[2,:]=[[ 2.93367171  0.07055631]]\n",
      "centroids[0,:]=[[-1.78883982  3.00116515]]\n",
      "centroids[1,:]=[[-3.01169467 -3.0123868 ]]\n",
      "centroids[2,:]=[[ 2.96765828 -0.04151062]]\n",
      "centroids[0,:]=[[-1.6334182   3.03655887]]\n",
      "centroids[1,:]=[[-3.01169467 -3.0123868 ]]\n",
      "centroids[2,:]=[[ 2.99405098 -0.16052631]]\n",
      "centroids[0,:]=[[-1.6334182   3.03655887]]\n",
      "centroids[1,:]=[[-3.01169467 -3.0123868 ]]\n",
      "centroids[2,:]=[[ 2.99405098 -0.16052631]]\n"
     ]
    }
   ],
   "source": [
    "centroids,clusterAssment=kmeans(X_train,3,distEculd,randCent)"
   ]
  },
  {
   "cell_type": "code",
   "execution_count": 9,
   "metadata": {},
   "outputs": [
    {
     "data": {
      "image/png": "[encoded data removed]",
      "text/plain": [
       "<matplotlib.figure.Figure at 0x28111cba400>"
      ]
     },
     "metadata": {},
     "output_type": "display_data"
    }
   ],
   "source": [
    "# 显示聚类结果\n",
    "# -------------\n",
    "# dataSet: 数据集\n",
    "# k: k个聚类\n",
    "# clusterAssment: 包含有所有样本属于哪个类的信息.\n",
    "# centroids: 包含k个聚类的质心\n",
    "def show_clustter_image(dataSet,k,clusterAssment,centroids):\n",
    "    dict_subclass={}\n",
    "    axes = plt.gca()\n",
    "    centroids=np.mat(centroids)\n",
    "    markers=['o','v','+','x','^','<','>','1','2','3','4','s','p','*','h','H','D','d','|','_','.',',']\n",
    "    for cent in range(k):\n",
    "        sameClust=dataSet[np.nonzero(clusterAssment[:,0].A==cent)[0]]\n",
    "        dict_subclass[cent]=sameClust\n",
    "        axes.scatter(np.array(sameClust[:,0]), np.array(sameClust[:,1]), marker=markers[cent], s=60, linewidth=2, label=\"cluster%s\"%(cent))\n",
    "        centroidsA=centroids[cent].A # mat和array格式导致解析时候有些问题.在遇到这些问题不同格式可以都尝试下.\n",
    "        plt.plot(centroidsA[0][0],centroidsA[0][1],marker='*',c='r')\n",
    "        \n",
    "    axes.set_xlabel(\"x feature0\")\n",
    "    axes.set_ylabel(\"x feature1\")\n",
    "    axes.set_title(\"kmeans K:%s\" %(k))\n",
    "    axes.legend(frameon= True, fancybox = True);\n",
    "    \n",
    "show_clustter_image(X_train,3,clusterAssment,centroids)"
   ]
  },
  {
   "cell_type": "markdown",
   "metadata": {},
   "source": [
    "#### 二分K-均值聚类"
   ]
  },
  {
   "cell_type": "code",
   "execution_count": 13,
   "metadata": {},
   "outputs": [],
   "source": [
    "def biKmeans(dataSet,k,distMear=distEculd):\n",
    "    m,n=dataSet.shape\n",
    "    centroidAss= np.zeros((m,n),np.float32) # mx2\n",
    "    # 质心\n",
    "    centroid0=np.mean(dataSet,axis=0).tolist()[0]\n",
    "    print(centroid0)\n",
    "    centList=[centroid0]\n",
    "    # 预先计算centroid0和所有样本的距离\n",
    "    for j in range(m):\n",
    "        centroidAss[j,1]=distMear(np.mat(centroid0),dataSet[j,:])**2\n",
    "    while(len(centList)<k): # 我们是二分类做聚类.\n",
    "        lowestSSE=np.inf\n",
    "        for i in range(len(centList)): # 遍历所有已有的聚类,在这个聚类中进行二分,然后计算使得当前样本集的聚类最小的那个聚类方法.\n",
    "            # 对于每一个分类都进行二分类\n",
    "            curCluster=dataSet[np.nonzero(clusterAssment[:,0].A==i)[0]]\n",
    "            centroidMat,splitClustAss=kmeans(curCluster,2,distMear)\n",
    "            sseSplit=np.sum(splitClustAss[:,1])\n",
    "            sseNonSplit=np.sum(clusterAssment[np.nonzero(clusterAssment[:,0].A!=i)[0],1])\n",
    "            print(\"sseSplit:%s,sseNonSplit:%s\"%(sseSplit,sseNonSplit))\n",
    "            if(sseSplit+sseNonSplit<lowestSSE): # 保存这次聚类的参数.\n",
    "                lowestSSE=sseSplit+sseNonSplit\n",
    "                bestNewCent=centroidMat\n",
    "                bestClustAss=splitClustAss.copy()\n",
    "                bestCentToSplit=i\n",
    "        # 此时已经拿到最佳二分聚类了.\n",
    "        # 原本在二分聚类中类名字为1的要在总的聚类中把类名字标记为len(centList)\n",
    "        # 原本在二分聚类中类名字为0的要在总的聚类中把类名字标记为从centList中第几个centorid划分的那个\"几\"\n",
    "        bestClustAss[np.nonzero(bestClustAss[:,0].A==1)[0],0]=len(centList) \n",
    "        bestClustAss[np.nonzero(bestClustAss[:,0].A==0)[0],0]=bestCentToSplit\n",
    "        \n",
    "        print(\"bestCentToSplit\",bestCentToSplit)\n",
    "        print(\"bestClustAss\",bestClustAss)\n",
    "        print(\"len(bestClustAss)\",len(bestClustAss))\n",
    "        centList[bestCentToSplit]=bestNewCent[0,:] # 原本在二分聚类中类名字为0描述的第0个中心点给到i号中心点list\n",
    "        centList.append(bestNewCent[1,:]) # 原本在二分聚类中类名字为1描述的第1个中心点,添加到centList中.\n",
    "        clusterAssment[np.nonzero(clusterAssment[:,0].A==bestCentToSplit)[0],:]=bestClustAss\n",
    "    \n",
    "    return centList,clusterAssment\n",
    "            \n",
    "        \n",
    "    "
   ]
  },
  {
   "cell_type": "code",
   "execution_count": 15,
   "metadata": {},
   "outputs": [
    {
     "name": "stdout",
     "output_type": "stream",
     "text": [
      "[-0.10361321250000004, 0.05430119999999998]\n",
      "centroids[0,:]=[[ 1.77812397  3.88083196]]\n",
      "centroids[1,:]=[[ nan  nan]]\n",
      "sseSplit:2.4958e-15,sseNonSplit:395.84\n",
      "bestCentToSplit 0\n",
      "bestClustAss [[  0.00000000e+00   2.49580037e-15]]\n",
      "len(bestClustAss) 1\n",
      "centroids[0,:]=[[ 1.77812397  3.88083196]]\n",
      "centroids[1,:]=[[ nan  nan]]\n",
      "sseSplit:2.4958e-15,sseNonSplit:395.84\n",
      "centroids[0,:]=[[-2.74971771 -0.25059515]]\n",
      "centroids[1,:]=[[ 1.77400947  4.73776817]]\n",
      "centroids[0,:]=[[-2.85498381 -0.55595821]]\n",
      "centroids[1,:]=[[-0.1191522   4.12658167]]\n",
      "centroids[0,:]=[[-3.09539056 -2.26219082]]\n",
      "centroids[1,:]=[[-1.74777615  3.20930552]]\n",
      "centroids[0,:]=[[-3.01169467 -3.0123868 ]]\n",
      "centroids[1,:]=[[-2.07649302  2.96468401]]\n",
      "centroids[0,:]=[[-3.01169467 -3.0123868 ]]\n",
      "centroids[1,:]=[[-2.07649302  2.96468401]]\n",
      "sseSplit:134.159,sseNonSplit:301.215\n",
      "bestCentToSplit 0\n",
      "bestClustAss [[  0.00000000e+00   2.49580037e-15]]\n",
      "len(bestClustAss) 1\n",
      "centroids[0,:]=[[ 1.77812397  3.88083196]]\n",
      "centroids[1,:]=[[ nan  nan]]\n",
      "sseSplit:2.4958e-15,sseNonSplit:395.84\n",
      "centroids[0,:]=[[-2.77261376  0.93844151]]\n",
      "centroids[1,:]=[[-1.76712584 -3.29564714]]\n",
      "centroids[0,:]=[[-2.07649302  2.96468401]]\n",
      "centroids[1,:]=[[-3.01169467 -3.0123868 ]]\n",
      "centroids[0,:]=[[-2.07649302  2.96468401]]\n",
      "centroids[1,:]=[[-3.01169467 -3.0123868 ]]\n",
      "sseSplit:134.159,sseNonSplit:301.215\n",
      "centroids[0,:]=[[ 2.77673268  2.87160206]]\n",
      "centroids[1,:]=[[ 3.03713846 -2.62802839]]\n",
      "centroids[0,:]=[[ 2.77673268  2.87160206]]\n",
      "centroids[1,:]=[[ 3.03713846 -2.62802839]]\n",
      "sseSplit:65.2711,sseNonSplit:94.6245\n",
      "bestCentToSplit 2\n",
      "bestClustAss [[  3.           5.42362022]\n",
      " [  2.           3.25777912]\n",
      " [  2.           1.64177454]\n",
      " [  3.           1.89833987]\n",
      " [  2.           2.06190395]\n",
      " [  3.          10.05886269]\n",
      " [  2.           1.68674219]\n",
      " [  3.           0.54027784]\n",
      " [  2.           0.19386552]\n",
      " [  3.           1.23876858]\n",
      " [  3.           0.52636653]\n",
      " [  2.           0.53557634]\n",
      " [  2.           0.55217576]\n",
      " [  3.           5.0444231 ]\n",
      " [  3.           0.0411797 ]\n",
      " [  2.           1.49146044]\n",
      " [  3.           0.4188154 ]\n",
      " [  2.           0.29493973]\n",
      " [  3.           1.41239822]\n",
      " [  2.           0.59432608]\n",
      " [  3.           0.95470721]\n",
      " [  2.           6.15746069]\n",
      " [  3.           0.57090878]\n",
      " [  2.           0.90447456]\n",
      " [  3.           1.67598581]\n",
      " [  2.           0.16008967]\n",
      " [  3.           1.94703209]\n",
      " [  2.           1.54480755]\n",
      " [  3.           0.57703155]\n",
      " [  2.           0.28763944]\n",
      " [  3.           0.98454523]\n",
      " [  2.           5.05971622]\n",
      " [  3.           2.66688681]\n",
      " [  2.           0.04105641]\n",
      " [  3.           2.8251338 ]]\n",
      "len(bestClustAss) 35\n"
     ]
    },
    {
     "name": "stderr",
     "output_type": "stream",
     "text": [
      "c:\\program files\\python36\\lib\\site-packages\\numpy\\matrixlib\\defmatrix.py:549: RuntimeWarning: Mean of empty slice.\n",
      "  return N.ndarray.mean(self, axis, dtype, out, keepdims=True)._collapse(axis)\n",
      "c:\\program files\\python36\\lib\\site-packages\\numpy\\core\\_methods.py:73: RuntimeWarning: invalid value encountered in true_divide\n",
      "  ret, rcount, out=ret, casting='unsafe', subok=False)\n"
     ]
    }
   ],
   "source": [
    "centroids_2bi,clusterAssment_2bi=biKmeans(X_train,4,distEculd)"
   ]
  },
  {
   "cell_type": "code",
   "execution_count": null,
   "metadata": {},
   "outputs": [],
   "source": [
    "show_clustter_image(X_train,4,clusterAssment,centroids)"
   ]
  }
 ],
 "metadata": {
  "kernelspec": {
   "display_name": "Python 3",
   "language": "python",
   "name": "python3"
  },
  "language_info": {
   "codemirror_mode": {
    "name": "ipython",
    "version": 3
   },
   "file_extension": ".py",
   "mimetype": "text/x-python",
   "name": "python",
   "nbconvert_exporter": "python",
   "pygments_lexer": "ipython3",
   "version": "3.6.2"
  }
 },
 "nbformat": 4,
 "nbformat_minor": 2
}
