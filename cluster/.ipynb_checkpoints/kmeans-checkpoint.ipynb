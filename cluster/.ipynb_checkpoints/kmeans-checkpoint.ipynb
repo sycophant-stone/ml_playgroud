{
 "cells": [
  {
   "cell_type": "markdown",
   "metadata": {},
   "source": [
    "### kmeans"
   ]
  },
  {
   "cell_type": "markdown",
   "metadata": {},
   "source": [
    "#### setup"
   ]
  },
  {
   "cell_type": "code",
   "execution_count": 1,
   "metadata": {},
   "outputs": [],
   "source": [
    "import numpy as np\n",
    "import matplotlib.pyplot as plt"
   ]
  },
  {
   "cell_type": "code",
   "execution_count": 2,
   "metadata": {},
   "outputs": [],
   "source": [
    "def loadDataSet(fileName):      #general function to parse tab -delimited floats\n",
    "    dataMat = []                #assume last column is target value\n",
    "    fr = open(fileName)\n",
    "    for line in fr.readlines():\n",
    "        curLine = line.strip().split('\\t')\n",
    "        fltLine = list(map(float,curLine)) #map all elements to float()\n",
    "        dataMat.append(fltLine)\n",
    "    return dataMat"
   ]
  },
  {
   "cell_type": "code",
   "execution_count": 3,
   "metadata": {},
   "outputs": [],
   "source": [
    "# 计算某向量距离质心的欧式距离 \n",
    "def distEculd(vecA,vecB):\n",
    "    return np.sqrt(np.sum(np.power(vecA-vecB,2.0)))\n",
    "    "
   ]
  },
  {
   "cell_type": "code",
   "execution_count": 4,
   "metadata": {},
   "outputs": [],
   "source": [
    "# 生成dataSet个样本,k是需要聚类的出的类的个数.\n",
    "def randCent(dataSet,k):\n",
    "    m,n=dataSet.shape\n",
    "    centroids=np.mat(np.zeros((k,n),np.float32)) # k行n列的中心坐标\n",
    "    for j in range(n): # 对于每个特征\n",
    "        minJ=min(dataSet[:,j])\n",
    "        maxJ=max(dataSet[:,j])\n",
    "        delatJ=float(maxJ-minJ)\n",
    "        centroids[:,j]=minJ+delatJ*np.random.rand(k,1) # 第j个特征的每个样本的质心\n",
    "    \n",
    "    return centroids\n",
    "    "
   ]
  },
  {
   "cell_type": "code",
   "execution_count": 5,
   "metadata": {},
   "outputs": [
    {
     "data": {
      "text/plain": [
       "matrix([[ 3.80027628, -1.97353005],\n",
       "        [ 4.11201334,  2.37524199],\n",
       "        [-3.20596671,  2.57699013]], dtype=float32)"
      ]
     },
     "execution_count": 5,
     "metadata": {},
     "output_type": "execute_result"
    }
   ],
   "source": [
    "X_train=loadDataSet(\"testSet.txt\")\n",
    "X_train=np.mat(X_train)\n",
    "randCent(X_train,3)"
   ]
  },
  {
   "cell_type": "code",
   "execution_count": 6,
   "metadata": {},
   "outputs": [
    {
     "data": {
      "text/plain": [
       "5.184632816681332"
      ]
     },
     "execution_count": 6,
     "metadata": {},
     "output_type": "execute_result"
    }
   ],
   "source": [
    "distEculd(X_train[0],X_train[1])"
   ]
  },
  {
   "cell_type": "markdown",
   "metadata": {},
   "source": [
    "#### kmeans"
   ]
  },
  {
   "cell_type": "markdown",
   "metadata": {},
   "source": [
    "kmeans简图\n",
    "![kmeans简图](https://note.youdao.com/yws/api/personal/file/9D61D024B3E745408C249F766CC26692?method=download&shareKey=fe44472dbea390a0bba14907c3a2324c)\n"
   ]
  },
  {
   "cell_type": "code",
   "execution_count": 7,
   "metadata": {},
   "outputs": [],
   "source": [
    "def kmeans(dataSet,k,distMeas=distEculd,centSetup=randCent):\n",
    "    m,n=dataSet.shape\n",
    "    # 保存类别信息\n",
    "    clusterAssment=np.mat(np.zeros((m,2),np.float32))\n",
    "    #clusterAssment=np.zeros((m,2),np.float32)\n",
    "    centroids=centSetup(dataSet,k) # 随机出一组中心点.\n",
    "    clusterChanged=True \n",
    "    while clusterChanged: # 只要质心改变了,就要重新计算并更新一次.\n",
    "        clusterChanged=False\n",
    "        for i in range(m):\n",
    "            # 每个样本计算对应的距离 \n",
    "            mindistV=np.inf # step1. 求出每个样本对k个质心的最小的距离.\n",
    "            minIndex=-1     # step1. 暂存\n",
    "            for j in range(k): # 对k个聚类的质心.\n",
    "                distV=distMeas(dataSet[i,:],centroids[j,:]) # 求其欧式距离\n",
    "                #print(\"distV:%s,mindistV:%s\"%(distV,mindistV))\n",
    "                if mindistV>distV:\n",
    "                    mindistV=distV # 记下最小的距离以及所属的k聚类的哪一类.\n",
    "                    minIndex=j\n",
    "            if clusterAssment[i,0]!=minIndex:\n",
    "                clusterChanged=True # 如果该样本改变了所属类别,怎需要重新计算质心.\n",
    "            #clusterAssment=minIndex,mindistV**2 # 这种写法在新的版本中会把数据格式解析错.\n",
    "            clusterAssment[i,0]=minIndex\n",
    "            clusterAssment[i,1]=mindistV**2\n",
    "\n",
    "        # step2. 等到在某次质心情况下把所有样本都做完一次归类之后,重新计算质心.\n",
    "        for cent in range(k):\n",
    "            #sameClust=dataSet[np.nonzero(clusterAssment[:,0].A==cent)[0]]\n",
    "            #print(\"the %sth cluster's samples are : sameClust:%s\"%(cent,sameClust))\n",
    "            #print(np.nonzero(clusterAssment[:,0])) # 第一列是每个样本输入的k聚类之一的id.比如说是第一类.第二类,第三类.\n",
    "            sameClust = dataSet[np.nonzero(clusterAssment[:,0].A==cent)[0]]#get all the point in this cluster\n",
    "            centroids[cent,:]=np.mean(sameClust,axis=0) # 保持横轴形式,把列求和进而求均值.\n",
    "            print(\"centroids[%s,:]=%s\"%(cent,centroids[cent,:]))\n",
    "    return centroids,clusterAssment"
   ]
  },
  {
   "cell_type": "code",
   "execution_count": 8,
   "metadata": {},
   "outputs": [
    {
     "name": "stdout",
     "output_type": "stream",
     "text": [
      "centroids[0,:]=[[ 3.54988217 -2.50520706]]\n",
      "centroids[1,:]=[[ 0.88931602  3.23979449]]\n",
      "centroids[2,:]=[[-2.26425862 -1.47397423]]\n",
      "centroids[0,:]=[[ 2.97753215 -2.65120673]]\n",
      "centroids[1,:]=[[ 0.38075384  3.12396836]]\n",
      "centroids[2,:]=[[-3.2466433  -2.07882643]]\n",
      "centroids[0,:]=[[ 2.86927819 -2.54779124]]\n",
      "centroids[1,:]=[[ 0.14460655  3.09399199]]\n",
      "centroids[2,:]=[[-3.35883355 -2.57409072]]\n",
      "centroids[0,:]=[[ 2.86927819 -2.54779124]]\n",
      "centroids[1,:]=[[ 0.0469085   3.05287671]]\n",
      "centroids[2,:]=[[-3.34887719 -2.76960039]]\n",
      "centroids[0,:]=[[ 2.86927819 -2.54779124]]\n",
      "centroids[1,:]=[[-0.02298687  2.99472904]]\n",
      "centroids[2,:]=[[-3.38237047 -2.9473362 ]]\n",
      "centroids[0,:]=[[ 2.86927819 -2.54779124]]\n",
      "centroids[1,:]=[[-0.02298687  2.99472904]]\n",
      "centroids[2,:]=[[-3.38237047 -2.9473362 ]]\n"
     ]
    }
   ],
   "source": [
    "centroids,clusterAssment=kmeans(X_train,3,distEculd,randCent)"
   ]
  },
  {
   "cell_type": "code",
   "execution_count": 12,
   "metadata": {},
   "outputs": [
    {
     "ename": "SyntaxError",
     "evalue": "positional argument follows keyword argument (<ipython-input-12-558455a6f186>, line 24)",
     "output_type": "error",
     "traceback": [
      "\u001b[1;36m  File \u001b[1;32m\"<ipython-input-12-558455a6f186>\"\u001b[1;36m, line \u001b[1;32m24\u001b[0m\n\u001b[1;33m    show_clustter_image(X_train,k=3,clusterAssment,centroids)\u001b[0m\n\u001b[1;37m                                   ^\u001b[0m\n\u001b[1;31mSyntaxError\u001b[0m\u001b[1;31m:\u001b[0m positional argument follows keyword argument\n"
     ]
    }
   ],
   "source": [
    "# 显示聚类结果\n",
    "# -------------\n",
    "# dataSet: 数据集\n",
    "# k: k个聚类\n",
    "# clusterAssment: 包含有所有样本属于哪个类的信息.\n",
    "# centroids: 包含k个聚类的质心\n",
    "def show_clustter_image(dataSet,k,clusterAssment,centroids):\n",
    "    dict_subclass={}\n",
    "    axes = plt.gca()\n",
    "    centroids=np.mat(centroids)\n",
    "    markers=['o','v','+','x','^','<','>','1','2','3','4','s','p','*','h','H','D','d','|','_','.',',']\n",
    "    for cent in range(k):\n",
    "        sameClust=dataSet[np.nonzero(clusterAssment[:,0].A==cent)[0]]\n",
    "        dict_subclass[cent]=sameClust\n",
    "        axes.scatter(np.array(sameClust[:,0]), np.array(sameClust[:,1]), marker=markers[cent], s=60, linewidth=2, label=\"cluster%s\"%(cent))\n",
    "        centroidsA=centroids[cent].A # mat和array格式导致解析时候有些问题.在遇到这些问题不同格式可以都尝试下.\n",
    "        plt.plot(centroidsA[0][0],centroidsA[0][1],marker='*',c='r')\n",
    "        \n",
    "    axes.set_xlabel(\"x feature0\")\n",
    "    axes.set_ylabel(\"x feature1\")\n",
    "    axes.set_title(\"kmeans K:%s\" %(k))\n",
    "    axes.legend(frameon= True, fancybox = True);\n",
    "    \n",
    "show_clustter_image(X_train,3,clusterAssment,centroids)"
   ]
  },
  {
   "cell_type": "code",
   "execution_count": null,
   "metadata": {},
   "outputs": [],
   "source": []
  }
 ],
 "metadata": {
  "kernelspec": {
   "display_name": "Python 3",
   "language": "python",
   "name": "python3"
  },
  "language_info": {
   "codemirror_mode": {
    "name": "ipython",
    "version": 3
   },
   "file_extension": ".py",
   "mimetype": "text/x-python",
   "name": "python",
   "nbconvert_exporter": "python",
   "pygments_lexer": "ipython3",
   "version": "3.6.2"
  }
 },
 "nbformat": 4,
 "nbformat_minor": 2
}
